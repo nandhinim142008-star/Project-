{
  "nbformat": 4,
  "nbformat_minor": 0,
  "metadata": {
    "colab": {
      "provenance": []
    },
    "kernelspec": {
      "name": "python3",
      "display_name": "Python 3"
    },
    "language_info": {
      "name": "python"
    }
  },
  "cells": [
    {
      "cell_type": "code",
      "source": [
        "import pandas as pd\n",
        "df=pd.read_csv(\"/content/Data[1]analytics.csv\")\n",
        "print(\"Original Dataset(first 5 rows):\\n\",df.head())"
      ],
      "metadata": {
        "colab": {
          "base_uri": "https://localhost:8080/"
        },
        "id": "Es_UoYrzveBL",
        "outputId": "7c538da9-6b5d-4142-b471-cc1dc07230ee"
      },
      "execution_count": 2,
      "outputs": [
        {
          "output_type": "stream",
          "name": "stdout",
          "text": [
            "Original Dataset(first 5 rows):\n",
            "    Country   Age   Salary Purchased\n",
            "0   France  44.0  72000.0        No\n",
            "1    Spain  27.0  48000.0       Yes\n",
            "2  Germany  30.0  54000.0        No\n",
            "3    Spain  38.0  61000.0        No\n",
            "4  Germany  40.0      NaN       Yes\n"
          ]
        }
      ]
    },
    {
      "cell_type": "code",
      "source": [
        "print(\"\\nMissing Values in Each Column:\\n\",df.isnull().sum())"
      ],
      "metadata": {
        "colab": {
          "base_uri": "https://localhost:8080/"
        },
        "id": "XjJSvDW8xlHY",
        "outputId": "e4bfe575-b1ad-4729-b332-400a45bb8b63"
      },
      "execution_count": 3,
      "outputs": [
        {
          "output_type": "stream",
          "name": "stdout",
          "text": [
            "\n",
            "Missing Values in Each Column:\n",
            " Country      0\n",
            "Age          1\n",
            "Salary       1\n",
            "Purchased    0\n",
            "dtype: int64\n"
          ]
        }
      ]
    },
    {
      "cell_type": "code",
      "source": [
        "df_drop=df.dropna()\n",
        "print(\"\\nDataset after Dropping Missing Rows:\\n\",df_drop.head())"
      ],
      "metadata": {
        "colab": {
          "base_uri": "https://localhost:8080/"
        },
        "id": "Do4BCp6gyPUo",
        "outputId": "970b0eee-1a3a-40de-8dc1-dc7f658355c6"
      },
      "execution_count": 5,
      "outputs": [
        {
          "output_type": "stream",
          "name": "stdout",
          "text": [
            "\n",
            "Dataset after Dropping Missing Rows:\n",
            "    Country   Age   Salary Purchased\n",
            "0   France  44.0  72000.0        No\n",
            "1    Spain  27.0  48000.0       Yes\n",
            "2  Germany  30.0  54000.0        No\n",
            "3    Spain  38.0  61000.0        No\n",
            "5   France  35.0  58000.0       Yes\n"
          ]
        }
      ]
    },
    {
      "cell_type": "code",
      "source": [
        "df_drop_col=df.dropna(axis=1)\n",
        "print(\"\\nDataset after Dropping Columns with Missing Values:\\n\",df_drop_col.head())"
      ],
      "metadata": {
        "colab": {
          "base_uri": "https://localhost:8080/"
        },
        "id": "Y7GLO1aWzHW3",
        "outputId": "b069072d-e738-4817-daa9-640848bd7e96"
      },
      "execution_count": 6,
      "outputs": [
        {
          "output_type": "stream",
          "name": "stdout",
          "text": [
            "\n",
            "Dataset after Dropping Columns with Missing Values:\n",
            "    Country Purchased\n",
            "0   France        No\n",
            "1    Spain       Yes\n",
            "2  Germany        No\n",
            "3    Spain        No\n",
            "4  Germany       Yes\n"
          ]
        }
      ]
    },
    {
      "cell_type": "code",
      "source": [
        "df_fill_const = df.fillna(\"Unknown\")\n",
        "print(\"\\nDataset after Filling Missing Values with Constant:\\n\", df_fill_const.head())\n"
      ],
      "metadata": {
        "colab": {
          "base_uri": "https://localhost:8080/"
        },
        "id": "JhvbWOS_z-mC",
        "outputId": "f5932fd3-c80b-43a4-c3e8-2786c9d68c20"
      },
      "execution_count": 7,
      "outputs": [
        {
          "output_type": "stream",
          "name": "stdout",
          "text": [
            "\n",
            "Dataset after Filling Missing Values with Constant:\n",
            "    Country   Age   Salary Purchased\n",
            "0   France  44.0  72000.0        No\n",
            "1    Spain  27.0  48000.0       Yes\n",
            "2  Germany  30.0  54000.0        No\n",
            "3    Spain  38.0  61000.0        No\n",
            "4  Germany  40.0  Unknown       Yes\n"
          ]
        }
      ]
    },
    {
      "cell_type": "code",
      "source": [
        "df_fill_mean = df.fillna(df.mean(numeric_only=True))\n",
        "print(\"\\nDataset after Filling Numeric Missing Values with Mean:\\n\", df_fill_mean.head())\n",
        "\n"
      ],
      "metadata": {
        "colab": {
          "base_uri": "https://localhost:8080/"
        },
        "id": "rQ9TsKp30fJk",
        "outputId": "a0cdbe4d-b89b-4033-e3ec-3ae20f15da49"
      },
      "execution_count": 8,
      "outputs": [
        {
          "output_type": "stream",
          "name": "stdout",
          "text": [
            "\n",
            "Dataset after Filling Numeric Missing Values with Mean:\n",
            "    Country   Age        Salary Purchased\n",
            "0   France  44.0  72000.000000        No\n",
            "1    Spain  27.0  48000.000000       Yes\n",
            "2  Germany  30.0  54000.000000        No\n",
            "3    Spain  38.0  61000.000000        No\n",
            "4  Germany  40.0  63777.777778       Yes\n"
          ]
        }
      ]
    },
    {
      "cell_type": "code",
      "source": [
        "df_fill_forward = df.fillna(method='ffill')\n",
        "print(\"\\nDataset after Forward Fill:\\n\", df_fill_forward.head())\n"
      ],
      "metadata": {
        "colab": {
          "base_uri": "https://localhost:8080/"
        },
        "id": "LPpzzfbB0m4Y",
        "outputId": "cb583011-c79b-4e3a-ccda-66cec4cf0f3c"
      },
      "execution_count": 9,
      "outputs": [
        {
          "output_type": "stream",
          "name": "stdout",
          "text": [
            "\n",
            "Dataset after Forward Fill:\n",
            "    Country   Age   Salary Purchased\n",
            "0   France  44.0  72000.0        No\n",
            "1    Spain  27.0  48000.0       Yes\n",
            "2  Germany  30.0  54000.0        No\n",
            "3    Spain  38.0  61000.0        No\n",
            "4  Germany  40.0  61000.0       Yes\n"
          ]
        },
        {
          "output_type": "stream",
          "name": "stderr",
          "text": [
            "/tmp/ipython-input-1056410270.py:1: FutureWarning: DataFrame.fillna with 'method' is deprecated and will raise in a future version. Use obj.ffill() or obj.bfill() instead.\n",
            "  df_fill_forward = df.fillna(method='ffill')\n"
          ]
        }
      ]
    },
    {
      "cell_type": "code",
      "source": [
        "df_fill_backward = df.fillna(method='bfill')\n",
        "print(\"\\nDataset after Backward Fill:\\n\", df_fill_backward.head())\n"
      ],
      "metadata": {
        "colab": {
          "base_uri": "https://localhost:8080/"
        },
        "id": "QMe7hkyq0tCF",
        "outputId": "f1b54d1e-6358-48f1-c536-7d2fb05673c2"
      },
      "execution_count": 10,
      "outputs": [
        {
          "output_type": "stream",
          "name": "stdout",
          "text": [
            "\n",
            "Dataset after Backward Fill:\n",
            "    Country   Age   Salary Purchased\n",
            "0   France  44.0  72000.0        No\n",
            "1    Spain  27.0  48000.0       Yes\n",
            "2  Germany  30.0  54000.0        No\n",
            "3    Spain  38.0  61000.0        No\n",
            "4  Germany  40.0  58000.0       Yes\n"
          ]
        },
        {
          "output_type": "stream",
          "name": "stderr",
          "text": [
            "/tmp/ipython-input-2907019863.py:1: FutureWarning: DataFrame.fillna with 'method' is deprecated and will raise in a future version. Use obj.ffill() or obj.bfill() instead.\n",
            "  df_fill_backward = df.fillna(method='bfill')\n"
          ]
        }
      ]
    }
  ]
}